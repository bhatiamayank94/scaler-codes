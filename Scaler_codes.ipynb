{
  "nbformat": 4,
  "nbformat_minor": 0,
  "metadata": {
    "colab": {
      "provenance": [],
      "collapsed_sections": [],
      "authorship_tag": "ABX9TyOoKtr3/AKnpzxDNsWlWJyF",
      "include_colab_link": true
    },
    "kernelspec": {
      "name": "python3",
      "display_name": "Python 3"
    },
    "language_info": {
      "name": "python"
    }
  },
  "cells": [
    {
      "cell_type": "markdown",
      "metadata": {
        "id": "view-in-github",
        "colab_type": "text"
      },
      "source": [
        "<a href=\"https://colab.research.google.com/github/bhatiamayank94/scaler-codes/blob/main/Scaler_codes.ipynb\" target=\"_parent\"><img src=\"https://colab.research.google.com/assets/colab-badge.svg\" alt=\"Open In Colab\"/></a>"
      ]
    },
    {
      "cell_type": "code",
      "source": [
        "n=int(input())\n",
        "k=1\n",
        "for i in range(0,n):\n",
        "  for j in range(0,n-i-1):\n",
        "    print(' ',end='')\n",
        "  for j in range(0,i+k):\n",
        "    print('*',end='')\n",
        "  for j in range(0,n-i-1):\n",
        "    print(' ',end='')\n",
        "  k+=1\n",
        "  print('')"
      ],
      "metadata": {
        "id": "mCvoH6WLD_YC",
        "colab": {
          "base_uri": "https://localhost:8080/"
        },
        "outputId": "7b2e7a7b-4173-421c-b137-30d8e7a62cdf"
      },
      "execution_count": null,
      "outputs": [
        {
          "output_type": "stream",
          "name": "stdout",
          "text": [
            "3\n",
            "  *  \n",
            " *** \n",
            "*****\n"
          ]
        }
      ]
    },
    {
      "cell_type": "code",
      "source": [
        "n=int(input())\n",
        "for i in range(0,n):\n",
        "  print('*',end='')\n",
        "  for j in range(0,n-2):\n",
        "    print(' ',end='')\n",
        "  print('*',end='')\n",
        "  print('')"
      ],
      "metadata": {
        "id": "sikw0c7xJdCG",
        "colab": {
          "base_uri": "https://localhost:8080/"
        },
        "outputId": "4414b040-a3e1-4e2b-ae86-f8ffdbb0d42d"
      },
      "execution_count": null,
      "outputs": [
        {
          "output_type": "stream",
          "name": "stdout",
          "text": [
            "9\n",
            "*       *\n",
            "*       *\n",
            "*       *\n",
            "*       *\n",
            "*       *\n",
            "*       *\n",
            "*       *\n",
            "*       *\n",
            "*       *\n"
          ]
        }
      ]
    },
    {
      "cell_type": "code",
      "source": [
        "n=int(input())\n",
        "for i in range(0,n):\n",
        "  for j in range(0,n-i):\n",
        "    print('*',end='')\n",
        "  for j in range(0,2*i):\n",
        "    print(' ',end='')\n",
        "  for j in range(0,n-i):\n",
        "    print('*',end='')\n",
        "  print('')\n"
      ],
      "metadata": {
        "colab": {
          "base_uri": "https://localhost:8080/"
        },
        "id": "D0ChnM9c0SAA",
        "outputId": "597c3af5-e93e-4e56-98fe-d57d395490d7"
      },
      "execution_count": null,
      "outputs": [
        {
          "output_type": "stream",
          "name": "stdout",
          "text": [
            "7\n",
            "**************\n",
            "******  ******\n",
            "*****    *****\n",
            "****      ****\n",
            "***        ***\n",
            "**          **\n",
            "*            *\n"
          ]
        }
      ]
    },
    {
      "cell_type": "code",
      "source": [
        "n=int(input())\n",
        "for j in range(0,n):\n",
        "    a=int(input())\n",
        "    i=a\n",
        "    k=0\n",
        "    while i>0:\n",
        "      k=10*k+i%10\n",
        "      i=i//10\n",
        "    print(k)\n"
      ],
      "metadata": {
        "id": "qFeYfXNHA4aO",
        "colab": {
          "base_uri": "https://localhost:8080/"
        },
        "outputId": "e309c109-12c7-44b5-b2a3-3c270bbaea9a"
      },
      "execution_count": null,
      "outputs": [
        {
          "output_type": "stream",
          "name": "stdout",
          "text": [
            "2\n",
            "234\n",
            "432\n",
            "321\n",
            "123\n"
          ]
        }
      ]
    },
    {
      "cell_type": "code",
      "source": [
        "\n",
        "\n",
        "a=int(input())\n",
        "i=a\n",
        "k=0\n",
        "while i>0:\n",
        "    k=10*k+i%10\n",
        "    i=i//10\n",
        "print('Yes') if k==a else print('No')\n"
      ],
      "metadata": {
        "id": "cYYJATe8uTJW",
        "colab": {
          "base_uri": "https://localhost:8080/"
        },
        "outputId": "492e4d9a-201d-4324-e988-570c0bc9f48e"
      },
      "execution_count": null,
      "outputs": [
        {
          "output_type": "stream",
          "name": "stdout",
          "text": [
            "123\n",
            "No\n"
          ]
        }
      ]
    },
    {
      "cell_type": "code",
      "source": [
        "    A = int(input())\n",
        "    \n",
        "    digits = 0\n",
        "    tempA = A\n",
        "\n",
        "    while tempA > 0:\n",
        "        digits += 1\n",
        "        tempA //= 10\n",
        "\n",
        "    digits -= 1\n",
        "    \n",
        "    \n",
        "    powerOf10 = 10**(digits)\n",
        "\n",
        "    \n",
        "    \n",
        "    while powerOf10 > 0:\n",
        "        dig = (A // powerOf10) % 10\n",
        "        if dig == 0:\n",
        "            print(\"zero\", end = ' ')\n",
        "        elif dig == 1:\n",
        "            print(\"one\", end = ' ')\n",
        "        elif dig == 2:\n",
        "            print(\"two\", end = ' ')\n",
        "        elif dig == 3:\n",
        "            print(\"three\", end = ' ')\n",
        "        elif dig == 4:\n",
        "            print(\"four\", end = ' ')\n",
        "        elif dig == 5:\n",
        "            print(\"five\", end = ' ')\n",
        "        elif dig == 6:\n",
        "            print(\"six\", end = ' ')\n",
        "        elif dig == 7:\n",
        "            print(\"seven\", end = ' ')\n",
        "        elif dig == 8:\n",
        "            print(\"eight\", end = ' ')\n",
        "        elif dig == 9:\n",
        "            print(\"nine\", end = ' ')\n",
        "        \n",
        "        powerOf10 //= 10"
      ],
      "metadata": {
        "id": "EDNcpIwYofza"
      },
      "execution_count": null,
      "outputs": []
    },
    {
      "cell_type": "code",
      "source": [
        "n=int(input())\n",
        "for j in range(0,n):\n",
        "    a=int(input())\n",
        "    b=int(input())\n",
        "    k=0\n",
        "    i=a*b\n",
        "    while i >= (max(a,b)):\n",
        "      if i%a==0 and i%b==0:\n",
        "        k=i\n",
        "      i-=1\n",
        "\n",
        "    print(k)\n",
        "\n",
        "  "
      ],
      "metadata": {
        "colab": {
          "base_uri": "https://localhost:8080/"
        },
        "id": "aei40zck7ym_",
        "outputId": "995d13cf-47a8-4622-ab1c-4dcf9ca45c02"
      },
      "execution_count": null,
      "outputs": [
        {
          "output_type": "stream",
          "name": "stdout",
          "text": [
            "2\n",
            "4\n",
            "5\n",
            "20\n",
            "6\n",
            "8\n",
            "24\n"
          ]
        }
      ]
    },
    {
      "cell_type": "code",
      "source": [
        "# N cases of LCM\n",
        "n=int(input())\n",
        "for j in range(0,n):\n",
        "    a=int(input())\n",
        "    b=int(input())\n",
        "    k=1\n",
        "    for i in range(1,min(a,b)+1):\n",
        "      if a%i==0 and b%i==0:\n",
        "        k=i\n",
        "    print(k)\n"
      ],
      "metadata": {
        "id": "l0DSGp0a89Ui",
        "colab": {
          "base_uri": "https://localhost:8080/"
        },
        "outputId": "eb906aa3-0cd8-40e1-874c-8b011bfeb74c"
      },
      "execution_count": null,
      "outputs": [
        {
          "output_type": "stream",
          "name": "stdout",
          "text": [
            "2\n",
            "2\n",
            "4\n",
            "2\n",
            "10\n",
            "8\n",
            "2\n"
          ]
        }
      ]
    },
    {
      "cell_type": "code",
      "source": [
        "# pattern #2\n",
        "a=int(input())\n",
        "for i in range(0,a):\n",
        "  for j in range(1,a-i+1):\n",
        "    if j==(a-i):\n",
        "        print(j,end='')\n",
        "    else:\n",
        "        print(j,end=' ')\n",
        "  print('')"
      ],
      "metadata": {
        "colab": {
          "base_uri": "https://localhost:8080/"
        },
        "id": "HXgNINBmp0sj",
        "outputId": "db9ad7be-655a-4c2e-d8f3-209566ffdfb9"
      },
      "execution_count": null,
      "outputs": [
        {
          "output_type": "stream",
          "name": "stdout",
          "text": [
            "8\n",
            "1 2 3 4 5 6 7 8\n",
            "1 2 3 4 5 6 7\n",
            "1 2 3 4 5 6\n",
            "1 2 3 4 5\n",
            "1 2 3 4\n",
            "1 2 3\n",
            "1 2\n",
            "1\n"
          ]
        }
      ]
    },
    {
      "cell_type": "code",
      "source": [
        "# Pattern #2\n",
        "\n",
        "a=int(input())\n",
        "for i in range(1,a+1):\n",
        "  for j in range(i):\n",
        "    print('*',end='')\n",
        "  print('')"
      ],
      "metadata": {
        "colab": {
          "base_uri": "https://localhost:8080/"
        },
        "id": "X4vQRj4tyZye",
        "outputId": "d0c111de-18f1-4a8d-f9a7-cd702c6c803b"
      },
      "execution_count": null,
      "outputs": [
        {
          "output_type": "stream",
          "name": "stdout",
          "text": [
            "4\n",
            "*\n",
            "**\n",
            "***\n",
            "****\n"
          ]
        }
      ]
    },
    {
      "cell_type": "code",
      "source": [
        "# Pattern #3\n",
        "\n",
        "a=int(input())\n",
        "for i in range(1,a+1):\n",
        "  for j in range(1,i+1):\n",
        "    if j==i+1:\n",
        "      print(j,end='')\n",
        "    else:\n",
        "      print(j,end=' ')\n",
        "  print('')"
      ],
      "metadata": {
        "colab": {
          "base_uri": "https://localhost:8080/"
        },
        "id": "EHK3_0Ex05Sk",
        "outputId": "f54579be-478e-4589-809a-b3c00c7652a6"
      },
      "execution_count": null,
      "outputs": [
        {
          "output_type": "stream",
          "name": "stdout",
          "text": [
            "5\n",
            "1 \n",
            "1 2 \n",
            "1 2 3 \n",
            "1 2 3 4 \n",
            "1 2 3 4 5 \n"
          ]
        }
      ]
    },
    {
      "cell_type": "code",
      "source": [
        "# Pattern #4\n",
        "\n",
        "n=int(input())\n",
        "for i in range(n):\n",
        "    print('*',end='')\n",
        "    for j in range(n-2):\n",
        "        print(' ',end='')\n",
        "    print('*',end='')\n",
        "    print('')"
      ],
      "metadata": {
        "colab": {
          "base_uri": "https://localhost:8080/"
        },
        "id": "4Dpfe6qe1m6T",
        "outputId": "225b92e8-b516-49b1-ffb4-aed5a55f0c75"
      },
      "execution_count": null,
      "outputs": [
        {
          "output_type": "stream",
          "name": "stdout",
          "text": [
            "5\n",
            "*   *\n",
            "*   *\n",
            "*   *\n",
            "*   *\n",
            "*   *\n"
          ]
        }
      ]
    },
    {
      "cell_type": "code",
      "source": [
        "# Pattern - Left half inverted pyramid\n",
        "\n",
        "n=int(input())\n",
        "for i in range(1,n+1):\n",
        "  for j in range(i-1):\n",
        "    print(' ',end='')\n",
        "  for j in range(0,n-i+1):\n",
        "    print('*',end='')\n",
        "  print('')"
      ],
      "metadata": {
        "id": "VTH48B5x4sv1",
        "colab": {
          "base_uri": "https://localhost:8080/"
        },
        "outputId": "3d1ba002-a2db-4f78-bb1a-a3ac02b3e51c"
      },
      "execution_count": null,
      "outputs": [
        {
          "output_type": "stream",
          "name": "stdout",
          "text": [
            "5\n",
            "*****\n",
            " ****\n",
            "  ***\n",
            "   **\n",
            "    *\n"
          ]
        }
      ]
    },
    {
      "cell_type": "code",
      "source": [
        "# Pattern - Pyramid\n",
        "\n",
        "n=int(input())\n",
        "for i in range(1,n+1):\n",
        "    for j in range(n-i):\n",
        "        print(' ',end='')\n",
        "    for j in range(i):\n",
        "        print('*',end=' ' )\n",
        "    print('')"
      ],
      "metadata": {
        "colab": {
          "base_uri": "https://localhost:8080/"
        },
        "id": "TiQybGx9VIfO",
        "outputId": "67a3ab44-bf7c-4144-882c-d2cce64a1489"
      },
      "execution_count": null,
      "outputs": [
        {
          "output_type": "stream",
          "name": "stdout",
          "text": [
            "5\n",
            "    * \n",
            "   * * \n",
            "  * * * \n",
            " * * * * \n",
            "* * * * * \n"
          ]
        }
      ]
    },
    {
      "cell_type": "code",
      "source": [
        "# Left Half Pyramid\n",
        "\n",
        "n=int(input())\n",
        "for i in range(1,n+1):\n",
        "  for j in range(n-i):\n",
        "    print(' ', end='')\n",
        "  for j in range(i):\n",
        "    print('*',end='')\n",
        "  print('')"
      ],
      "metadata": {
        "colab": {
          "base_uri": "https://localhost:8080/"
        },
        "id": "R4LHpiqyZbWA",
        "outputId": "a0dbaf53-42d5-4f66-9356-7a2d8ebbae2d"
      },
      "execution_count": null,
      "outputs": [
        {
          "output_type": "stream",
          "name": "stdout",
          "text": [
            "5\n",
            "    *\n",
            "   **\n",
            "  ***\n",
            " ****\n",
            "*****\n"
          ]
        }
      ]
    },
    {
      "cell_type": "code",
      "source": [
        "# Pattern #5\n",
        "n=int(input())\n",
        "for i in range(1,n+1):\n",
        "  for j in range(1,i+1):\n",
        "    if j%2!=0:\n",
        "      print(j,end='')\n",
        "    else:\n",
        "      print(' ',end='')\n",
        "  print('')"
      ],
      "metadata": {
        "colab": {
          "base_uri": "https://localhost:8080/"
        },
        "id": "dH0yLf94ajtr",
        "outputId": "39e50283-cc6e-4ce6-d7b2-fdc802d95f03"
      },
      "execution_count": null,
      "outputs": [
        {
          "output_type": "stream",
          "name": "stdout",
          "text": [
            "5\n",
            "1\n",
            "1 \n",
            "1 3\n",
            "1 3 \n",
            "1 3 5\n"
          ]
        }
      ]
    },
    {
      "cell_type": "code",
      "source": [
        "m=int(input())\n",
        "n=int(input())\n",
        "for i in range(m):\n",
        "  for j in range(n):\n",
        "    print('*',end='')\n",
        "  print('')\n"
      ],
      "metadata": {
        "colab": {
          "base_uri": "https://localhost:8080/"
        },
        "id": "Rhl2Swbpcq2G",
        "outputId": "6dc8e3cf-67e7-4ee6-ba3d-bcbaa420e84d"
      },
      "execution_count": null,
      "outputs": [
        {
          "output_type": "stream",
          "name": "stdout",
          "text": [
            "2\n",
            "3\n",
            "***\n",
            "***\n"
          ]
        }
      ]
    },
    {
      "cell_type": "code",
      "source": [
        "# Pattern Inverted right pyramid\n",
        "n=int(input())\n",
        "for i in range(n):\n",
        "  for j in range(n-i):\n",
        "    print('*',end='')\n",
        "  print('')\n"
      ],
      "metadata": {
        "colab": {
          "base_uri": "https://localhost:8080/"
        },
        "id": "KAYBj48ReXl7",
        "outputId": "c4db6353-e3c9-4722-bc29-d4d987a32470"
      },
      "execution_count": null,
      "outputs": [
        {
          "output_type": "stream",
          "name": "stdout",
          "text": [
            "5\n",
            "*****\n",
            "****\n",
            "***\n",
            "**\n",
            "*\n"
          ]
        }
      ]
    },
    {
      "cell_type": "code",
      "source": [
        "# Pattern #6\n",
        "\n",
        "n=int(input())\n",
        "for i in range(1,n+1):\n",
        "  for j in range(n-i+1):\n",
        "    print('*',end='')\n",
        "  for j in range(2*(i-1)):\n",
        "    print (' ',end='')\n",
        "  for j in range(n-i+1):\n",
        "    print('*',end='')\n",
        "  print('')"
      ],
      "metadata": {
        "colab": {
          "base_uri": "https://localhost:8080/"
        },
        "id": "XM0rgwHTfdC7",
        "outputId": "56e61753-9c02-44df-a58e-cb859e76493c"
      },
      "execution_count": null,
      "outputs": [
        {
          "output_type": "stream",
          "name": "stdout",
          "text": [
            "5\n",
            "**********\n",
            "****  ****\n",
            "***    ***\n",
            "**      **\n",
            "*        *\n"
          ]
        }
      ]
    },
    {
      "cell_type": "code",
      "source": [
        "# Pattern #7\n",
        "\n",
        "n=int(input())\n",
        "for i in range(1,n+1):\n",
        "  for j in range(i):\n",
        "    print('*',end='')\n",
        "  for j in range(2*(n-i)):\n",
        "    print (' ',end='')\n",
        "  for j in range(i):\n",
        "    print('*',end='')\n",
        "  print('')"
      ],
      "metadata": {
        "colab": {
          "base_uri": "https://localhost:8080/"
        },
        "id": "Hm8Gr8aOhvw3",
        "outputId": "60c66944-ecfd-49a9-fff4-1aa0b21367c4"
      },
      "execution_count": null,
      "outputs": [
        {
          "output_type": "stream",
          "name": "stdout",
          "text": [
            "5\n",
            "*        *\n",
            "**      **\n",
            "***    ***\n",
            "****  ****\n",
            "**********\n"
          ]
        }
      ]
    },
    {
      "cell_type": "code",
      "source": [
        "# Pattern - Half Diamond\n",
        "\n",
        "n=int(input())\n",
        "for i in range(1,n+1):\n",
        "  for j in range(i):\n",
        "    print('*',end='')\n",
        "  print('')\n",
        "for i in range(n+1,2*n):\n",
        "  for j in range(2*n-i):\n",
        "    print('*',end='')\n",
        "  print('')"
      ],
      "metadata": {
        "id": "g60iIq36iLOv",
        "colab": {
          "base_uri": "https://localhost:8080/"
        },
        "outputId": "1da073e5-22a5-4c2c-cc1f-66822528701e"
      },
      "execution_count": null,
      "outputs": [
        {
          "output_type": "stream",
          "name": "stdout",
          "text": [
            "5\n",
            "*\n",
            "**\n",
            "***\n",
            "****\n",
            "*****\n",
            "****\n",
            "***\n",
            "**\n",
            "*\n"
          ]
        }
      ]
    },
    {
      "cell_type": "code",
      "source": [
        "n=int(input())\n",
        "for i in range(1):\n",
        "  for j in range(n):\n",
        "    print('*',end='')\n",
        "  print('')\n",
        "for i in range(2,n):\n",
        "  for j in range ()\n",
        "for i in range (n,n+1):\n",
        "  for j in range(n):\n",
        "    print('*',end='')\n",
        "  print('')"
      ],
      "metadata": {
        "colab": {
          "base_uri": "https://localhost:8080/"
        },
        "id": "6pTPjYdK3LSQ",
        "outputId": "f166dee7-8c03-470a-998d-3999f83d145e"
      },
      "execution_count": null,
      "outputs": [
        {
          "output_type": "stream",
          "name": "stdout",
          "text": [
            "5\n",
            "*****\n",
            "*****\n"
          ]
        }
      ]
    },
    {
      "cell_type": "code",
      "source": [],
      "metadata": {
        "id": "psSdD1YD6lbA"
      },
      "execution_count": null,
      "outputs": []
    }
  ]
}